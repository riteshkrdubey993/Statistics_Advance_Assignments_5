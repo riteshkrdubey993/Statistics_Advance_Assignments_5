{
 "cells": [
  {
   "cell_type": "markdown",
   "id": "383e49e7-83db-473b-98c0-d381153db684",
   "metadata": {},
   "source": [
    "## Q1. Calculate the 95% confidence interval for a sample of data with a mean of 50 and a standard deviation of 5 using Python. Interpret the results."
   ]
  },
  {
   "cell_type": "code",
   "execution_count": 22,
   "id": "bb39f8ef-2c36-4f43-8e8d-bdb387c8d14d",
   "metadata": {},
   "outputs": [
    {
     "name": "stdout",
     "output_type": "stream",
     "text": [
      "range_of_mean: (48.49846094120748, 51.50153905879252)\n"
     ]
    }
   ],
   "source": [
    "import numpy as np\n",
    "import scipy.stats as stats\n",
    "\n",
    "confidence_level = 0.95\n",
    "sample_mean = 50\n",
    "std = 5\n",
    " \n",
    "sample_size = 30 # assume we have sample size = 30\n",
    "significance_level = 1 - confidence_level\n",
    "\n",
    "critical_value = stats.norm.ppf(confidence_level)\n",
    "margin_of_error = critical_value * std/np.sqrt(sample_size)\n",
    "\n",
    "lower_value = sample_mean - margin_of_error\n",
    "upper_value = sample_mean + margin_of_error\n",
    "\n",
    "print(f\"range_of_mean: {lower_value, upper_value}\")\n"
   ]
  },
  {
   "cell_type": "markdown",
   "id": "aeaf7f9b-41ab-485d-a6b6-1efe31f4308c",
   "metadata": {},
   "source": [
    "## Q2. Conduct a chi-square goodness of fit test to determine if the distribution of colors of M&Ms in a bag matches the expected distribution of 20% blue, 20% orange, 20% green, 10% yellow, 10% red, and 20% brown. Use Python to perform the test with a significance level of 0.05.\n"
   ]
  },
  {
   "cell_type": "code",
   "execution_count": 20,
   "id": "a1e07065-0cb4-4696-bbf2-b0201ada849a",
   "metadata": {},
   "outputs": [
    {
     "name": "stdout",
     "output_type": "stream",
     "text": [
      "Chi Square Value: 43.142857142857146\n",
      "p Value: 3.456727356158023e-08\n",
      "Siginificance Value: 0.05\n",
      "Reject the null hypothesis\n"
     ]
    }
   ],
   "source": [
    "import scipy.stats as stats\n",
    "import numpy as np\n",
    "\n",
    "alpha = 0.05\n",
    "expected_proportion = np.array([0.2, 0.2, 0.2, 0.1, 0.1, 0.2]) \n",
    "\n",
    "observed_value = np.array([52,45,85,63,45,95]) # assume our observation is [52,45,85,63,45,95]\n",
    "\n",
    "expected_value= expected_proportion * np.sum(observed)\n",
    "\n",
    "# H0: The observed distribution does not match the expected distribution\n",
    "# H1: The observed distribution does not match the expected distribution\n",
    "\n",
    "chi2, p_value = stats.chisquare(f_obs = observed_value, f_exp = expected_value)\n",
    "\n",
    "print(f\"Chi Square Value: {chi2}\")\n",
    "print(f\"p Value: {p_value}\")\n",
    "print(f\"Siginificance Value: {alpha}\")\n",
    "\n",
    "if alpha> p_value:\n",
    "    print('Reject the null hypothesis')\n",
    "else:\n",
    "    print('Fail to reject null hypothesis')"
   ]
  },
  {
   "cell_type": "markdown",
   "id": "6e071b69-0719-41a9-911b-897e22e08901",
   "metadata": {},
   "source": [
    "## Q3. Use Python to calculate the chi-square statistic and p-value for a contingency table with the following data: Interpret the results of the test."
   ]
  },
  {
   "cell_type": "raw",
   "id": "9c5350f4-218c-477b-8119-d5ee55354dfd",
   "metadata": {},
   "source": [
    "           Group A    Group B \n",
    "Outcome-1    20         15\n",
    "Outcome-2    10         25\n",
    "Outcome-3    15         20"
   ]
  },
  {
   "cell_type": "code",
   "execution_count": 4,
   "id": "7c3c954c-a9c3-4206-8368-979c34c2a3a7",
   "metadata": {},
   "outputs": [
    {
     "name": "stdout",
     "output_type": "stream",
     "text": [
      "Chi_square_value: 5.833333333333334\n",
      "p_value: 0.05411376622282158\n"
     ]
    }
   ],
   "source": [
    "import numpy as np\n",
    "import scipy.stats as stats\n",
    "\n",
    "group_a = [20, 10, 15]\n",
    "group_b = [15, 25, 20]\n",
    "observed = np.array([[group_a, group_b]])\n",
    "chi_value, p_value, degree_of_freedom, expected = stats.chi2_contingency(observed)\n",
    "print(f\"Chi_square_value: {chi_value}\")\n",
    "print(f\"p_value: {p_value}\")"
   ]
  },
  {
   "cell_type": "markdown",
   "id": "fce3bb3e-8d8e-47e8-875e-0b78a1948144",
   "metadata": {},
   "source": [
    "#### If the p_value is greater than or equal to the significance level, we fail to reject the null hypothesis and conclude that there is not enough evidence to suggest a significant association between the two variables(group_a and group_b)."
   ]
  },
  {
   "cell_type": "markdown",
   "id": "eb28ddcc-f54f-4e57-bc63-d8a3caf003bc",
   "metadata": {},
   "source": [
    "## Q4. A study of the prevalence of smoking in a population of 500 individuals found that 60 individuals smoked. Use Python to calculate the 95% confidence interval for the true proportion of individuals in the population who smoke.\n"
   ]
  },
  {
   "cell_type": "code",
   "execution_count": 23,
   "id": "e1ee6280-f637-48e1-a1cc-9afff33286a4",
   "metadata": {},
   "outputs": [
    {
     "name": "stdout",
     "output_type": "stream",
     "text": [
      "True Population Proportion lie in between (0.10546727830033203, 0.13453272169966796) with 95% confidence\n"
     ]
    }
   ],
   "source": [
    "import numpy as np\n",
    "import scipy.stats as stats\n",
    "\n",
    "confidence_level = 0.95\n",
    "significance_level = 1-confidence_level\n",
    "sample_size = 500\n",
    "\n",
    "sample_proportion = 60/500\n",
    "z_score = stats.norm.ppf(1-significance_level/2)\n",
    "margin_of_error = np.sqrt((sample_proportion * ( 1 - sample_proportion ))/sample_size)\n",
    "\n",
    "upper_proportion = sample_proportion + margin_of_error\n",
    "lower_proportion = sample_proportion - margin_of_error\n",
    "print(f\"True Population Proportion lie in between {lower_proportion, upper_proportion} with 95% confidence\")"
   ]
  },
  {
   "cell_type": "markdown",
   "id": "980b741f-5ce8-4549-81eb-51ed173d7db0",
   "metadata": {},
   "source": [
    "## Q5. Calculate the 90% confidence interval for a sample of data with a mean of 75 and a standard deviation of 12 using Python. Interpret the results."
   ]
  },
  {
   "cell_type": "code",
   "execution_count": 2,
   "id": "2c6df93e-3804-4b29-92b2-dbb2df269b66",
   "metadata": {},
   "outputs": [
    {
     "name": "stdout",
     "output_type": "stream",
     "text": [
      "(72.19226119578065, 77.80773880421935)\n"
     ]
    }
   ],
   "source": [
    "import numpy as np\n",
    "import scipy.stats as stats\n",
    "\n",
    "confidence_level = 0.90\n",
    "sample_mean = 75\n",
    "std = 12\n",
    "sample_size = 30 # Assume sample size = 30\n",
    "\n",
    "standard_error = std/np.sqrt(sample_size)\n",
    "z_score = stats.norm.ppf(confidence_level)\n",
    "margin_of_error = z_score * standard_error\n",
    "lower_value = sample_mean - margin_of_error\n",
    "upper_value = sample_mean + margin_of_error\n",
    "\n",
    "print(f\"{lower_value, upper_value}\")"
   ]
  },
  {
   "cell_type": "markdown",
   "id": "e6903ec0-5695-4039-88dd-45728d92e1f6",
   "metadata": {},
   "source": [
    "Interpretation:\n",
    "\n",
    "The 90% confidence interval for the population mean, based on the given sample data, is approximately (72.19226119578065, 77.80773880421935). This means that we are 90% confident that the true population mean falls within this interval. In other words, if we were to take many random samples and calculate 90% confidence intervals for each, approximately 90% of those intervals would contain the true population mean."
   ]
  },
  {
   "cell_type": "markdown",
   "id": "6174a25d-35d8-4b33-ae02-db62ac9697ca",
   "metadata": {},
   "source": [
    "\n",
    "## Q6. Use Python to plot the chi-square distribution with 10 degrees of freedom. Label the axes and shade the area corresponding to a chi-square statistic of 15.\n"
   ]
  },
  {
   "cell_type": "code",
   "execution_count": 3,
   "id": "66c0e789-06fd-4c68-9ea6-1aee316d16da",
   "metadata": {},
   "outputs": [
    {
     "data": {
      "image/png": "[encoded data removed]",
      "text/plain": [
       "<Figure size 640x480 with 1 Axes>"
      ]
     },
     "metadata": {},
     "output_type": "display_data"
    }
   ],
   "source": [
    "import numpy as np\n",
    "import matplotlib.pyplot as plt\n",
    "import scipy.stats as stats\n",
    "\n",
    "# Degrees of freedom\n",
    "df = 10\n",
    "\n",
    "# Create a range of x values\n",
    "x = np.linspace(0, 30, 500)\n",
    "\n",
    "# Calculate the chi-squared probability density function (PDF)\n",
    "pdf = stats.chi2.pdf(x, df)\n",
    "\n",
    "# Create the figure and axis\n",
    "fig, ax = plt.subplots()\n",
    "\n",
    "# Plot the PDF\n",
    "ax.plot(x, pdf, 'b-', lw=2, label=f'Chi-Squared PDF (df={df})')\n",
    "\n",
    "# Shade the area corresponding to a chi-square statistic of 15\n",
    "x_fill = np.linspace(0, 15, 500)\n",
    "pdf_fill = stats.chi2.pdf(x_fill, df)\n",
    "ax.fill_between(x_fill, pdf_fill, color='red', alpha=0.5, label='Chi-Squared Statistic = 15')\n",
    "\n",
    "\n",
    "ax.set_xlabel('X')\n",
    "ax.set_ylabel('Probability Density')\n",
    "ax.set_title(f'Chi-Squared Distribution (df={df}) with Shaded Area')\n",
    "ax.legend()\n",
    "\n",
    "\n",
    "plt.grid(True)\n",
    "plt.show()\n"
   ]
  },
  {
   "cell_type": "markdown",
   "id": "62d44841-63a0-4488-b237-e8a5e7b1df02",
   "metadata": {},
   "source": [
    "## Q7. A random sample of 1000 people was asked if they preferred Coke or Pepsi. Of the sample, 520 preferred Coke. Calculate a 99% confidence interval for the true proportion of people in the population who prefer Coke.\n"
   ]
  },
  {
   "cell_type": "code",
   "execution_count": 20,
   "id": "dad8fd72-6d88-4900-8a25-ee4a73675a6c",
   "metadata": {},
   "outputs": [
    {
     "name": "stdout",
     "output_type": "stream",
     "text": [
      "Sample Proportion: 0.52\n",
      "Margin of Error: 0.03675335154773185\n",
      "Upper Bound: 0.5567533515477319\n",
      "Lower Bound: 0.48324664845226817\n",
      "99% Confidence Interval for Proportion of People Preferring Coke: (0.4832, 0.5568)\n"
     ]
    }
   ],
   "source": [
    "sample_size = 1000\n",
    "prefer_coke = 520\n",
    "sample_proportion = prefer_coke/sample_size\n",
    "confidence_level = 0.99\n",
    "\n",
    "import scipy.stats as stats\n",
    "\n",
    "\n",
    "z_score = stats.norm.ppf(confidence_level)\n",
    "\n",
    "standard_error = np.sqrt(sample_proportion*( 1 - sample_proportion )/sample_size)\n",
    "margin_of_error = z_score * standard_error\n",
    "\n",
    "upper_bound = sample_proportion + margin_of_error\n",
    "lower_bound = sample_proportion - margin_of_error\n",
    "\n",
    "print(f\"Sample Proportion: {sample_proportion}\")\n",
    "print(f\"Margin of Error: {margin_of_error}\")\n",
    "print(f\"Upper Bound: {upper_bound}\")\n",
    "print(f\"Lower Bound: {lower_bound}\")\n",
    "print(f\"99% Confidence Interval for Proportion of People Preferring Coke: ({lower_bound:.4f}, {upper_bound:.4f})\")"
   ]
  },
  {
   "cell_type": "markdown",
   "id": "811f381e-dc27-42e0-acd6-a8d0f793d9ef",
   "metadata": {},
   "source": [
    "## Q8. A researcher hypothesizes that a coin is biased towards tails. They flip the coin 100 times and observe 45 tails. Conduct a chi-square goodness of fit test to determine if the observed frequencies match the expected frequencies of a fair coin. Use a significance level of 0.05.\n"
   ]
  },
  {
   "cell_type": "code",
   "execution_count": 27,
   "id": "976e08b8-d404-4eeb-9835-cacbd06a2a76",
   "metadata": {},
   "outputs": [
    {
     "name": "stdout",
     "output_type": "stream",
     "text": [
      "Fail to reject Null Hypothesis\n"
     ]
    }
   ],
   "source": [
    "import numpy as np\n",
    "import scipy.stats as stats\n",
    "sample_size = 100\n",
    "\n",
    "observed_tails = 45\n",
    "observed_heads = 100 - observed_tails\n",
    "\n",
    "significance_level = 0.05\n",
    "\n",
    "expected_tails = 0.5*100\n",
    "expected_heads = 50\n",
    "\n",
    "degree_of_freedom = 1\n",
    "\n",
    "# H0: The coin is fair, and the observed frequencies match the expected frequencies\n",
    "# (i.e., the expected proportion of tails is 0.5).\n",
    "# H1: The coin is biased towards tails, and the observed frequencies do not match the expected frequencies.\n",
    "chi_square = ((observed_tails - expected_tails)**2 / expected_tails) + (\n",
    "             (observed_heads - expected_heads)**2 / expected_heads)\n",
    "\n",
    "critical_value = stats.chi2.ppf(1-significance_level, degree_of_freedom)\n",
    "\n",
    "if critical_value < chi_square:\n",
    "    print('Reject Null Hypothesis')\n",
    "else:\n",
    "    print('Fail to reject Null Hypothesis')"
   ]
  },
  {
   "cell_type": "markdown",
   "id": "c0284de7-871f-4649-8e45-4694560a14d0",
   "metadata": {},
   "source": [
    "## Q9. A study was conducted to determine if there is an association between smoking status (smoker or non-smoker) and lung cancer diagnosis (yes or no). The results are shown in the contingency table below. Conduct a chi-square test for independence to determine if there is a significant association between smoking status and lung cancer diagnosis. Use a significance level of 0.05."
   ]
  },
  {
   "cell_type": "raw",
   "id": "a8ddfc23-ee4f-41bd-8899-60e5981a0462",
   "metadata": {},
   "source": [
    "              Lung Cancer: Yes     Lung Cancer: No\n",
    "\n",
    "Smoker                   60               140\n",
    "Non-smoker               30               170\n"
   ]
  },
  {
   "cell_type": "code",
   "execution_count": 6,
   "id": "bdbb3690-a285-46db-97fe-87efb4f0f76a",
   "metadata": {},
   "outputs": [
    {
     "name": "stdout",
     "output_type": "stream",
     "text": [
      "Chi_Value: 12.057347670250895\n",
      "p_value: 0.0005158863863703744\n",
      "Degree of Freedom: 1\n",
      "Expected Value: [[[ 45. 155.]\n",
      "  [ 45. 155.]]]\n",
      "Reject Null Hypothesis\n"
     ]
    }
   ],
   "source": [
    "import numpy as np\n",
    "import scipy.stats as stats\n",
    "\n",
    "significance_level = 0.05\n",
    "l1 = [60,140]\n",
    "l2 = [30,170]\n",
    "\n",
    "observed = np.array([[l1,l2]])\n",
    "\n",
    "# H0: There is association\n",
    "# H1: There is no association\n",
    "\n",
    "chi_value, p_value, dof, expected = stats.chi2_contingency(observed)\n",
    "\n",
    "print(f\"Chi_Value: {chi_value}\")\n",
    "print(f\"p_value: {p_value}\")\n",
    "print(f\"Degree of Freedom: {dof}\")\n",
    "print(f\"Expected Value: {expected}\")\n",
    "\n",
    "\n",
    "if p_value < significance_level:\n",
    "    print('Reject Null Hypothesis')\n",
    "    \n",
    "else:\n",
    "    print('Fail to reject null hypothesis')"
   ]
  },
  {
   "cell_type": "code",
   "execution_count": 4,
   "id": "d2089c6c-c1fe-4547-94e7-d3113c548651",
   "metadata": {},
   "outputs": [
    {
     "data": {
      "text/plain": [
       "array([[[ 45., 155.],\n",
       "        [ 45., 155.]]])"
      ]
     },
     "execution_count": 4,
     "metadata": {},
     "output_type": "execute_result"
    }
   ],
   "source": [
    "expected"
   ]
  },
  {
   "cell_type": "markdown",
   "id": "6162a4f6-f975-44ec-958a-3bb68f498515",
   "metadata": {},
   "source": [
    "## Q10. A study was conducted to determine if the proportion of people who prefer milk chocolate, dark chocolate, or white chocolate is different in the U.S. versus the U.K. A random sample of 500 people from the U.S. and a random sample of 500 people from the U.K. were surveyed. The results are shown in the contingency table below. Conduct a chi-square test for independence to determine if there is a significant association between chocolate preference and country of origin. Use a significance level of 0.01."
   ]
  },
  {
   "cell_type": "raw",
   "id": "1625e7f4-a3ab-4478-a915-06f6a16e885b",
   "metadata": {},
   "source": [
    "\n",
    "              Milk Chocolate    Dark Chocolate     White Chocolate\n",
    "U.S. (n=500)        200               150                150\n",
    "U.K. (n=500)        225               175                100"
   ]
  },
  {
   "cell_type": "code",
   "execution_count": 12,
   "id": "92a2d9d0-5c08-4062-ab73-8110a2a7e233",
   "metadata": {},
   "outputs": [
    {
     "name": "stdout",
     "output_type": "stream",
     "text": [
      "Reject Null Hypothesis\n"
     ]
    }
   ],
   "source": [
    "import scipy.stats as stats\n",
    "import numpy as np\n",
    "\n",
    "l1 = [200, 150, 150]\n",
    "l2 = [225, 175, 100]\n",
    "alpha = 0.01\n",
    "\n",
    "# H0: There is significance association between choccolate prefrence and country of origin.\n",
    "# H1: There is no association between chocolate prefrence and country of origin.\n",
    "\n",
    "observed = np.array([[l1,l2]])\n",
    "chi_value, pvalue, dof, expected = stats.chi2_contingency(observed)\n",
    "\n",
    "\n",
    "if pvalue < alpha:\n",
    "    print('Reject Null Hypothesis')\n",
    "else:\n",
    "    print('Fail to reject Null Hypothesis')"
   ]
  },
  {
   "cell_type": "markdown",
   "id": "c559f6f3-3902-47e9-b32d-f31cf7676c62",
   "metadata": {},
   "source": [
    "## Q11. A random sample of 30 people was selected from a population with an unknown mean and standard deviation. The sample mean was found to be 72 and the sample standard deviation was found to be 10. Conduct a hypothesis test to determine if the population mean is significantly different from 70. Use a significance level of 0.05."
   ]
  },
  {
   "cell_type": "code",
   "execution_count": 12,
   "id": "7938aff6-c6d3-48da-87f6-8219b52dac60",
   "metadata": {},
   "outputs": [
    {
     "name": "stdout",
     "output_type": "stream",
     "text": [
      "Sample Mean: 72\n",
      "Hypothesis Mean: 70\n",
      "Sample Standard Deviation: 10\n",
      "Significance Level: 0.05\n",
      "Sample Size: 30\n",
      "Degree of Freedom: 29\n",
      "T Statistics: 1.0954451150103321\n",
      "T Critical: 2.045229642132703\n",
      "Fail to reject Null Hypothesis\n"
     ]
    }
   ],
   "source": [
    "import numpy as np\n",
    "import scipy.stats as stats\n",
    "\n",
    "sample_mean = 72\n",
    "hypothisis_mean = 70\n",
    "sample_std = 10\n",
    "significance_level = 0.05\n",
    "sample_size = 30\n",
    "degree_of_freedom = sample_size - 1\n",
    "\n",
    "# H0: Population mean = 70\n",
    "# H1: Population mean is not 70\n",
    "\n",
    "t_statistic = (sample_mean - hypothisis_mean)/(sample_std/np.sqrt(sample_size))\n",
    "\n",
    "t_critical = stats.t.ppf(1- significance_level/2, degree_of_freedom)\n",
    "\n",
    "print(f\"Sample Mean: {sample_mean}\")\n",
    "print(f\"Hypothesis Mean: {hypothisis_mean}\")\n",
    "print(f\"Sample Standard Deviation: {sample_std}\")\n",
    "print(f\"Significance Level: {significance_level}\")\n",
    "print(f\"Sample Size: {sample_size}\")\n",
    "print(f\"Degree of Freedom: {degree_of_freedom}\")\n",
    "print(f\"T Statistics: {t_statistic}\")\n",
    "print(f\"T Critical: {t_critical}\")\n",
    "\n",
    "if t_critical < t_statistic:\n",
    "    print('Reject Null Hypothesis')\n",
    "else:\n",
    "    print('Fail to reject Null Hypothesis')"
   ]
  }
 ],
 "metadata": {
  "kernelspec": {
   "display_name": "Python 3 (ipykernel)",
   "language": "python",
   "name": "python3"
  },
  "language_info": {
   "codemirror_mode": {
    "name": "ipython",
    "version": 3
   },
   "file_extension": ".py",
   "mimetype": "text/x-python",
   "name": "python",
   "nbconvert_exporter": "python",
   "pygments_lexer": "ipython3",
   "version": "3.10.8"
  }
 },
 "nbformat": 4,
 "nbformat_minor": 5
}
